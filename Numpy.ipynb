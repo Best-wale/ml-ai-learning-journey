{
 "cells": [
  {
   "cell_type": "code",
   "execution_count": 1,
   "id": "76f21e93-dd84-4353-b0b0-afc6b63711b7",
   "metadata": {},
   "outputs": [],
   "source": [
    "import numpy as np"
   ]
  },
  {
   "cell_type": "code",
   "execution_count": 9,
   "id": "312ba706-c741-45f8-8b87-ca4c9007cf85",
   "metadata": {},
   "outputs": [
    {
     "name": "stdout",
     "output_type": "stream",
     "text": [
      "9\n"
     ]
    }
   ],
   "source": [
    "#1 Shape and size\n",
    "cars = np.array([[1,2,3],\n",
    "                 [10,101,100],\n",
    "                 [10,101,100]])\n",
    "#print(type(cars))\n",
    "#print(cars.shape)\n",
    "print(cars.size)"
   ]
  },
  {
   "cell_type": "code",
   "execution_count": 38,
   "id": "12c19148-af05-4c65-a6be-2542a250abb9",
   "metadata": {},
   "outputs": [
    {
     "name": "stdout",
     "output_type": "stream",
     "text": [
      "(3,)\n",
      "this is an addition [30 80 42]\n",
      "this is subtraction [-10  20 -38]\n",
      "this is an addition [ 200 1500   80]\n",
      "this is subtraction [0.5        1.66666667 0.05      ]\n"
     ]
    }
   ],
   "source": [
    "#Basic Arithmetic \n",
    "\n",
    "a = np.array([10,50,2])\n",
    "b = np.array([20,30,40])\n",
    "\n",
    "print('this is an addition',a + b)\n",
    "print('this is subtraction', a - b)\n",
    "print('this is an addition',a * b)\n",
    "print('this is subtraction', a / b)\n"
   ]
  },
  {
   "cell_type": "code",
   "execution_count": 25,
   "id": "2367a0af-6eb9-475c-a678-97d0023ca5f3",
   "metadata": {},
   "outputs": [
    {
     "name": "stdout",
     "output_type": "stream",
     "text": [
      "12\n",
      "[12 13 14 15]\n",
      "[[ 6  7]\n",
      " [10 11]]\n"
     ]
    }
   ],
   "source": [
    "#indexing and slicing\n",
    "M = np.array([[1,2,3,4],\n",
    "              [5,6,7,8],\n",
    "              [9,10,11,13],\n",
    "              [12,13,14,15]])\n",
    "\n",
    "print(M[3,0])\n",
    "\n",
    "print(M[3])\n",
    "\n",
    "print(M[1:3,1:3])"
   ]
  },
  {
   "cell_type": "code",
   "execution_count": 36,
   "id": "f6cf3cd4-73ad-4984-8cb2-4ab15ab4ef32",
   "metadata": {},
   "outputs": [
    {
     "data": {
      "text/plain": [
       "array([[ 0,  1,  2,  3,  4,  5],\n",
       "       [ 6,  7,  8,  9, 10, 11],\n",
       "       [12, 13, 14, 15, 16, 17]])"
      ]
     },
     "execution_count": 36,
     "metadata": {},
     "output_type": "execute_result"
    }
   ],
   "source": [
    "#Reshaping Arrays\n",
    "'''\n",
    "flat = np.array([[12,23,3,4],\n",
    "              [5,6,7,83],\n",
    "              [9,10,113,13],\n",
    "              [12,13,14,15]])\n",
    "'''\n",
    "flat = np.arange(18)\n",
    "#print(flat)\n",
    "grid2 = flat.reshape(3,6)\n",
    "grid2\n"
   ]
  },
  {
   "cell_type": "code",
   "execution_count": 44,
   "id": "70a22165-1bb5-4034-8989-f20a7c8175d3",
   "metadata": {},
   "outputs": [
    {
     "name": "stdout",
     "output_type": "stream",
     "text": [
      "[[3 5 5]\n",
      " [2 5 7]]\n"
     ]
    }
   ],
   "source": [
    "#brodCasting\n",
    "X = np.array([[1,2,1],\n",
    "              [0,2,3]])\n",
    "Y = np.array([2,3,4])\n",
    "\n",
    "print(X + Y)"
   ]
  },
  {
   "cell_type": "code",
   "execution_count": 48,
   "id": "20c9af8b-1af4-4d91-8930-81456284035c",
   "metadata": {},
   "outputs": [
    {
     "name": "stdout",
     "output_type": "stream",
     "text": [
      "this is the mean for X: 1.5\n",
      "this is the sum 9\n",
      "this is the minimum value 0\n"
     ]
    }
   ],
   "source": [
    "#Usefull Built-in Fuctions \n",
    "the_mean = np.mean(X)\n",
    "print('this is the mean for X:',the_mean)\n",
    "\n",
    "sum_up = np.sum(X)\n",
    "print('this is the sum',sum_up)\n",
    "\n",
    "min_up = np.min(X)\n",
    "print('this is the minimum value',min_up)\n"
   ]
  },
  {
   "cell_type": "code",
   "execution_count": 50,
   "id": "093173ba-770a-4f5e-8f92-cc5e5555224b",
   "metadata": {},
   "outputs": [
    {
     "name": "stdout",
     "output_type": "stream",
     "text": [
      "[[ 132  288  540]\n",
      " [ 352  728 1420]]\n"
     ]
    }
   ],
   "source": [
    "#Advanced Linear Algebra(Not done)\n",
    "\n",
    "A = np.array([[12,12],\n",
    "             [12,34]])\n",
    "B = np.array([[1,4,5],\n",
    "              [10,20,40]])\n",
    "\n",
    "print(A.dot(B))"
   ]
  },
  {
   "cell_type": "code",
   "execution_count": 53,
   "id": "776882a5-4b0d-4f2d-b1d3-1226ff7d021a",
   "metadata": {},
   "outputs": [
    {
     "name": "stdout",
     "output_type": "stream",
     "text": [
      "[[ 0.09860961 -0.09164831 -0.62800383]\n",
      " [-0.95157652  0.04583009  0.81909472]\n",
      " [ 0.29725303 -0.79244121  0.08961692]]\n"
     ]
    }
   ],
   "source": [
    "#Advanced: Random Numbers(Not done)\n",
    "#r = np.random.rand(10)\n",
    "#print(r)\n",
    "\n",
    "M = np.random.randn(3,3)\n",
    "print(M)"
   ]
  },
  {
   "cell_type": "code",
   "execution_count": 104,
   "id": "9781fb71-85e7-466a-a56a-1b1dfc9800e5",
   "metadata": {},
   "outputs": [
    {
     "name": "stdout",
     "output_type": "stream",
     "text": [
      "612\n",
      "Probability of rolling a 7: 0.6\n"
     ]
    }
   ],
   "source": [
    "#simple project:Rolling Dice Sim\n",
    "dice1 = np.random.randint(1,7,size=1000)\n",
    "dice2 = np.random.randint(1,7,size=1000)\n",
    "\n",
    "sums = dice1 + dice2\n",
    "\n",
    "count7 = np.sum(sums == 7)\n",
    "\n",
    "print(count7)\n",
    "prob7 = count7/1000\n",
    "print(f\"Probability of rolling a 7: {prob7:.1f}\")\n",
    "\n",
    "\n"
   ]
  },
  {
   "cell_type": "code",
   "execution_count": null,
   "id": "14dbeb25-c6f0-4c86-9c14-071df6474900",
   "metadata": {},
   "outputs": [],
   "source": [
    "#Next Steps\n",
    "#Practice slicing and broadcasting with small arrays.\n",
    "\n",
    "#Explore np.where, np.unique, and boolean masking.\n",
    "\n",
    "#Build a simple linear regression from scratch using NumPy’s linear algebra.\n",
    "\n",
    "#When you’re comfortable, move on to pandas for tabular data."
   ]
  }
 ],
 "metadata": {
  "kernelspec": {
   "display_name": "Python 3 (ipykernel)",
   "language": "python",
   "name": "python3"
  },
  "language_info": {
   "codemirror_mode": {
    "name": "ipython",
    "version": 3
   },
   "file_extension": ".py",
   "mimetype": "text/x-python",
   "name": "python",
   "nbconvert_exporter": "python",
   "pygments_lexer": "ipython3",
   "version": "3.12.5"
  }
 },
 "nbformat": 4,
 "nbformat_minor": 5
}
